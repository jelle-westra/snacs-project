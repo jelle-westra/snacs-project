{
 "cells": [
  {
   "cell_type": "code",
   "execution_count": 59,
   "metadata": {},
   "outputs": [],
   "source": [
    "import networkx as nx\n",
    "import random\n",
    "from tqdm import tqdm\n",
    "\n",
    "from typing import Tuple, Set, Any, List, Dict"
   ]
  },
  {
   "cell_type": "code",
   "execution_count": 84,
   "metadata": {},
   "outputs": [],
   "source": [
    "G = nx.read_edgelist('./node2vec/graph/ca-AstroPh.edgelist', nodetype=int)"
   ]
  },
  {
   "cell_type": "code",
   "execution_count": 91,
   "metadata": {},
   "outputs": [],
   "source": [
    "G_giant = G.subgraph(max(nx.connected_components(G), key=len)).copy()\n",
    "n = G_giant.number_of_edges()//2"
   ]
  },
  {
   "cell_type": "code",
   "execution_count": 93,
   "metadata": {},
   "outputs": [],
   "source": [
    "Node = Any\n",
    "\n",
    "def random_remove_edges(G: nx.Graph, n: int) -> Set[Tuple[Node, Node]] :\n",
    "    # inplace removal of random edges s.t. G stays connected\n",
    "    edges = list(G_giant.edges())\n",
    "    removed = set()\n",
    "    i = 0\n",
    "    while (i < n):\n",
    "        (idx,) = random.sample(range(len(edges)), 1)\n",
    "        (u, v) = edges.pop(idx)\n",
    "        if not(G.degree(u) == 1) and not(G.degree(v) == 1) :\n",
    "            G_giant.remove_edge(u, v)\n",
    "            i += 1\n",
    "            removed.add((u, v))\n",
    "    return removed"
   ]
  },
  {
   "cell_type": "code",
   "execution_count": 94,
   "metadata": {},
   "outputs": [],
   "source": [
    "removed = random_remove_edges(G_giant, n)"
   ]
  },
  {
   "cell_type": "code",
   "execution_count": 95,
   "metadata": {},
   "outputs": [
    {
     "data": {
      "text/plain": [
       "True"
      ]
     },
     "execution_count": 95,
     "metadata": {},
     "output_type": "execute_result"
    }
   ],
   "source": [
    "(G_giant.number_of_nodes() - len(removed)) <= 1"
   ]
  },
  {
   "cell_type": "code",
   "execution_count": 98,
   "metadata": {},
   "outputs": [],
   "source": [
    "nx.write_edgelist(G_giant, './node2vec/graph/ca-AstroPh-half.edgelist')"
   ]
  },
  {
   "cell_type": "code",
   "execution_count": 102,
   "metadata": {},
   "outputs": [],
   "source": [
    "with open('./node2vec/graph/ca-AstroPh-removed.edgelist', 'w') as handle : \n",
    "    handle.writelines(f'{u} {v}\\n' for (u, v) in removed)"
   ]
  },
  {
   "cell_type": "markdown",
   "metadata": {},
   "source": [
    "<hr>"
   ]
  },
  {
   "cell_type": "code",
   "execution_count": 9,
   "metadata": {},
   "outputs": [],
   "source": [
    "import numpy as np"
   ]
  },
  {
   "cell_type": "code",
   "execution_count": 30,
   "metadata": {},
   "outputs": [],
   "source": [
    "G = nx.read_edgelist('./node2vec/graph/ca-AstroPh-half.edgelist')"
   ]
  },
  {
   "cell_type": "code",
   "execution_count": 5,
   "metadata": {},
   "outputs": [
    {
     "name": "stdout",
     "output_type": "stream",
     "text": [
      "Walk iteration:\n",
      "1 / 10\n",
      "2 / 10\n",
      "3 / 10\n",
      "4 / 10\n",
      "5 / 10\n",
      "6 / 10\n",
      "7 / 10\n",
      "8 / 10\n",
      "9 / 10\n",
      "10 / 10\n"
     ]
    }
   ],
   "source": [
    "!python ./node2vec/src/main.py --input ./node2vec/graph/ca-AstroPh-half.edgelist --output ./node2vec/emb/ca-AstroPh-half.emb"
   ]
  },
  {
   "cell_type": "code",
   "execution_count": 31,
   "metadata": {},
   "outputs": [],
   "source": [
    "id2idx = {id : idx for (idx, id) in enumerate(sorted(G.nodes()))}"
   ]
  },
  {
   "cell_type": "code",
   "execution_count": 32,
   "metadata": {},
   "outputs": [],
   "source": [
    "with open('./node2vec/emb/ca-AstroPh-half.emb', 'r') as handle:\n",
    "    (n, d) = map(int, handle.readline().strip().split())\n",
    "\n",
    "    embeddings = np.empty((n, d), dtype=np.float32)\n",
    "    while (line := handle.readline().strip()):\n",
    "        (id, *emb) = line.split()\n",
    "        # nodes start at 1 instead of 0.\n",
    "        embeddings[id2idx[id]] = list(map(float, emb))"
   ]
  },
  {
   "cell_type": "code",
   "execution_count": 60,
   "metadata": {},
   "outputs": [],
   "source": [
    "def diffuse_embeddings(G: nx.Graph, id2idx: Dict[str,int], X: List[List[float]], gamma=0.05) -> List[List[float]] :\n",
    "    # diffusing the learned embeddings based on their neighbors\n",
    "    deg_avg = sum(d for (n, d) in G.degree()) / G.number_of_nodes()\n",
    "\n",
    "    Xprime = X.copy()\n",
    "    for u in G.nodes() : \n",
    "        for v in G.neighbors(u) : \n",
    "            Xprime[id2idx[u]] += gamma*(G.degree(v)/deg_avg)*X[id2idx[v]]\n",
    "    return Xprime"
   ]
  },
  {
   "cell_type": "code",
   "execution_count": 61,
   "metadata": {},
   "outputs": [],
   "source": [
    "embeddings = diffuse_embeddings(G, id2idx, embeddings)"
   ]
  },
  {
   "cell_type": "markdown",
   "metadata": {},
   "source": [
    "# Training Data"
   ]
  },
  {
   "cell_type": "code",
   "execution_count": 62,
   "metadata": {},
   "outputs": [],
   "source": [
    "m = G.number_of_edges()\n",
    "\n",
    "X_train = np.empty((2*m, embeddings.shape[1]), dtype=np.float32)\n",
    "y_train = np.zeros(len(X_train), dtype=np.float32)\n",
    "y_train[:m] = 1\n",
    "\n",
    "# positive examples\n",
    "for i, (u, v) in enumerate(G.edges()):\n",
    "    X_train[i] = embeddings[id2idx[u]] * embeddings[id2idx[v]]\n",
    "# negative examples\n",
    "i = 0\n",
    "nodes = list(G.nodes())\n",
    "while (i < m) :\n",
    "    (u, v) = random.sample(nodes, 2)\n",
    "    if not(G.has_edge(u, v)) :\n",
    "        X_train[m+i] = embeddings[id2idx[u]] * embeddings[id2idx[v]]\n",
    "        i += 1"
   ]
  },
  {
   "cell_type": "markdown",
   "metadata": {},
   "source": [
    "# Testing Data"
   ]
  },
  {
   "cell_type": "code",
   "execution_count": 63,
   "metadata": {},
   "outputs": [],
   "source": [
    "with open('./node2vec/graph/ca-AstroPh-removed.edgelist', 'r') as handle:\n",
    "    removed = {tuple(line.strip().split()) for line in handle}"
   ]
  },
  {
   "cell_type": "code",
   "execution_count": 64,
   "metadata": {},
   "outputs": [],
   "source": [
    "m = len(removed)\n",
    "\n",
    "X_test = np.empty((2*m, embeddings.shape[1]), dtype=np.float32)\n",
    "y_test = np.zeros(len(X_test), dtype=np.float32)\n",
    "y_test[:m] = 1\n",
    "\n",
    "# positive examples\n",
    "for i, (u, v) in enumerate(removed):\n",
    "    X_test[i] = embeddings[id2idx[u]] * embeddings[id2idx[v]]\n",
    "# negative examples\n",
    "i = 0\n",
    "nodes = list(G.nodes())\n",
    "while (i < m) :\n",
    "    (u, v) = random.sample(nodes, 2)\n",
    "    if not(G.has_edge(u, v)) :\n",
    "        X_test[m+i] = embeddings[id2idx[u]] * embeddings[id2idx[v]]\n",
    "        i += 1"
   ]
  },
  {
   "cell_type": "markdown",
   "metadata": {},
   "source": [
    "# Link Prediction"
   ]
  },
  {
   "cell_type": "code",
   "execution_count": 65,
   "metadata": {},
   "outputs": [
    {
     "data": {
      "text/plain": [
       "0.9055524539410242"
      ]
     },
     "execution_count": 65,
     "metadata": {},
     "output_type": "execute_result"
    }
   ],
   "source": [
    "from sklearn.linear_model import LogisticRegression\n",
    "from sklearn.metrics import roc_auc_score\n",
    "\n",
    "\n",
    "clf = LogisticRegression()\n",
    "clf.fit(X_train, y_train)\n",
    "\n",
    "y_pred = clf.predict(X_test)\n",
    "\n",
    "roc_auc_score(y_test, y_pred)"
   ]
  },
  {
   "cell_type": "code",
   "execution_count": 67,
   "metadata": {},
   "outputs": [
    {
     "data": {
      "text/plain": [
       "0.9055524539410242"
      ]
     },
     "execution_count": 67,
     "metadata": {},
     "output_type": "execute_result"
    }
   ],
   "source": [
    "clf.score(X_test, y_test)"
   ]
  }
 ],
 "metadata": {
  "kernelspec": {
   "display_name": "base",
   "language": "python",
   "name": "python3"
  },
  "language_info": {
   "codemirror_mode": {
    "name": "ipython",
    "version": 3
   },
   "file_extension": ".py",
   "mimetype": "text/x-python",
   "name": "python",
   "nbconvert_exporter": "python",
   "pygments_lexer": "ipython3",
   "version": "3.11.7"
  }
 },
 "nbformat": 4,
 "nbformat_minor": 2
}
