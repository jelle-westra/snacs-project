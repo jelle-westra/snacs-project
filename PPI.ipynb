{
 "cells": [
  {
   "cell_type": "code",
   "execution_count": 48,
   "metadata": {},
   "outputs": [],
   "source": [
    "import numpy as np\n",
    "import matplotlib.pyplot as plt\n",
    "import networkx as nx\n",
    "from scipy.io import loadmat\n",
    "\n",
    "from sklearn.linear_model import LogisticRegression\n",
    "from sklearn.multiclass import OneVsRestClassifier\n",
    "from sklearn.model_selection import KFold\n",
    "from sklearn.metrics import f1_score\n",
    "\n",
    "from typing import List\n",
    "from tqdm import tqdm"
   ]
  },
  {
   "cell_type": "code",
   "execution_count": 89,
   "metadata": {},
   "outputs": [],
   "source": [
    "plt.rcParams['axes.spines.top'] = False\n",
    "plt.rcParams['axes.spines.right'] = False\n",
    "plt.rcParams['xtick.direction'] = 'in'\n",
    "plt.rcParams['ytick.direction'] = 'in'\n",
    "\n",
    "plt.rc('font', family='serif', serif=\"cmr10\", size=16)\n",
    "plt.rc('mathtext', fontset='cm', rm='serif')\n",
    "plt.rc('axes', unicode_minus=False)"
   ]
  },
  {
   "cell_type": "code",
   "execution_count": null,
   "metadata": {},
   "outputs": [],
   "source": [
    "# loading the graph in networkx\n",
    "PPI_data = loadmat('./datasets/PPI/Homo_sapiens.mat')\n",
    "G = nx.from_scipy_sparse_array(PPI_data['network'])"
   ]
  },
  {
   "cell_type": "code",
   "execution_count": null,
   "metadata": {},
   "outputs": [],
   "source": [
    "# export for node2vec\n",
    "nx.write_edgelist(G, './node2vec/graph/ppi.edgelist')\n",
    "# running node2vec\n",
    "!python node2vec/src/main.py --input ./node2vec/graph/ppi.edgelist --output ./node2vec/emb/ppi.emb"
   ]
  },
  {
   "cell_type": "code",
   "execution_count": 31,
   "metadata": {},
   "outputs": [],
   "source": [
    "with open('./node2vec/emb/ppi.emb', 'r') as handle:\n",
    "    (n, d) = map(int, handle.readline().strip().split())\n",
    "\n",
    "    X = np.empty((n, d), dtype=np.float32)\n",
    "    while (line := handle.readline().strip()):\n",
    "        (idx, *emb) = line.split()\n",
    "        X[int(idx)] = list(map(float, emb))\n",
    "# loading the multi-label data\n",
    "y = PPI_data['group'].toarray()"
   ]
  },
  {
   "cell_type": "code",
   "execution_count": 32,
   "metadata": {},
   "outputs": [
    {
     "data": {
      "text/plain": [
       "(3890, 50)"
      ]
     },
     "execution_count": 32,
     "metadata": {},
     "output_type": "execute_result"
    }
   ],
   "source": [
    "y.shape"
   ]
  },
  {
   "cell_type": "markdown",
   "metadata": {},
   "source": [
    "In total there are 3890 nodes that can belong to (multiple) of any of the 50 classes."
   ]
  },
  {
   "cell_type": "code",
   "execution_count": 33,
   "metadata": {},
   "outputs": [
    {
     "data": {
      "text/plain": [
       "1.7069408740359897"
      ]
     },
     "execution_count": 33,
     "metadata": {},
     "output_type": "execute_result"
    }
   ],
   "source": [
    "# avg. no. classes per node\n",
    "y.sum(axis=1).mean()"
   ]
  },
  {
   "cell_type": "code",
   "execution_count": 94,
   "metadata": {},
   "outputs": [],
   "source": [
    "def cross_validate_f1(\n",
    "    X: List[List[float]], \n",
    "    y: List[List[int]], \n",
    "    folds: int=10, \n",
    "    verbose: bool=True\n",
    ") -> List[float] :\n",
    "    # macro-f1 cv on logistic 1-vs-rest logistic regression\n",
    "    \n",
    "    clf = OneVsRestClassifier(LogisticRegression(penalty='l2'), n_jobs=-1)\n",
    "    kf = KFold(n_splits=folds, shuffle=True)\n",
    "    f1 = []\n",
    "    for j, (train_index, test_index) in enumerate(kf.split(X)) :\n",
    "        X_train, X_test = X[train_index], X[test_index]\n",
    "        y_train, y_test = y[train_index], y[test_index]\n",
    "        \n",
    "        clf.fit(X_train, y_train)\n",
    "        y_pred = clf.predict(X_test)\n",
    "\n",
    "        f1.append(f1_score(y_test, y_pred, average='macro', zero_division=0))\n",
    "        if (verbose) : print(f'[{j+1:02d}/{folds:02d}] {f1[-1]:.5f}')\n",
    "    if (verbose) : print(f'mean: {np.mean(f1):.5f}')\n",
    "    return np.array(f1)"
   ]
  },
  {
   "cell_type": "code",
   "execution_count": 95,
   "metadata": {},
   "outputs": [
    {
     "name": "stdout",
     "output_type": "stream",
     "text": [
      "[01/10] 0.07043\n",
      "[02/10] 0.04462\n",
      "[03/10] 0.06245\n",
      "[04/10] 0.06144\n",
      "[05/10] 0.07401\n",
      "[06/10] 0.04842\n",
      "[07/10] 0.06807\n",
      "[08/10] 0.10190\n",
      "[09/10] 0.06921\n",
      "[10/10] 0.05896\n",
      "mean: 0.06595\n"
     ]
    }
   ],
   "source": [
    "f1_baseline = cross_validate_f1(X, y);"
   ]
  },
  {
   "cell_type": "code",
   "execution_count": 28,
   "metadata": {},
   "outputs": [],
   "source": [
    "def diffuse_embeddings(G: nx.Graph, X: List[List[float]], gamma=0.05) -> List[List[float]] :\n",
    "    # diffusing the learned embeddings based on their neighbors\n",
    "    deg_avg = sum(d for (n, d) in G.degree()) / G.number_of_nodes()\n",
    "\n",
    "    Xprime = X.copy()\n",
    "    for u in G.nodes() : \n",
    "        for v in G.neighbors(u) : \n",
    "            Xprime[u] += gamma*(G.degree(v)/deg_avg)*X[v]\n",
    "    return Xprime"
   ]
  },
  {
   "cell_type": "code",
   "execution_count": 83,
   "metadata": {},
   "outputs": [
    {
     "name": "stderr",
     "output_type": "stream",
     "text": [
      "100%|██████████| 13/13 [02:24<00:00, 11.15s/it]\n"
     ]
    }
   ],
   "source": [
    "n = 13 # no. gamma variations\n",
    "folds = 10 # cv folds\n",
    "\n",
    "gammas = np.logspace(-3,1,n)\n",
    "f1_diffused = np.empty((n, folds), dtype=np.float32)\n",
    "\n",
    "for (j, gamma) in tqdm(enumerate(gammas), total=n) :\n",
    "    Xprime = diffuse_embeddings(G, X, gamma,)\n",
    "    f1_diffused[j] = cross_validate_f1(Xprime, y,  verbose=False)"
   ]
  },
  {
   "cell_type": "code",
   "execution_count": 98,
   "metadata": {},
   "outputs": [
    {
     "data": {
      "image/png": "[encoded data removed]",
      "text/plain": [
       "<Figure size 640x480 with 1 Axes>"
      ]
     },
     "metadata": {},
     "output_type": "display_data"
    }
   ],
   "source": [
    "fig, ax = plt.subplots()\n",
    "\n",
    "(m_baseline, sd_baseline) = (np.mean(f1_baseline), np.std(f1_baseline, ddof=1))\n",
    "\n",
    "ax.axhspan(m_baseline - sd_baseline, m_baseline + sd_baseline, alpha=0.2)\n",
    "ax.axhline(np.mean(f1_baseline), label='Vanilla Embeddings')\n",
    "\n",
    "ax.errorbar(gammas, f1_diffused.mean(axis=1), yerr=f1_diffused.std(ddof=1), capsize=5, ls='none', c='k')\n",
    "ax.semilogx(gammas, f1_diffused.mean(axis=1), 'ks', mfc='w', label='Diffused Embeddings')\n",
    "\n",
    "ax.set_ylim(0, 0.15)\n",
    "ax.set_ylabel('Macro-F1')\n",
    "ax.set_xlabel('Diffusion Factor $\\gamma$')\n",
    "\n",
    "ax.legend()\n",
    "ax.set_title('Embedding Diffusion of PPI Dataset')\n",
    "\n",
    "fig.tight_layout()"
   ]
  },
  {
   "cell_type": "code",
   "execution_count": 96,
   "metadata": {},
   "outputs": [
    {
     "data": {
      "text/plain": [
       "(0.10189953882833142, 0.13973388)"
      ]
     },
     "execution_count": 96,
     "metadata": {},
     "output_type": "execute_result"
    }
   ],
   "source": [
    "f1_baseline.max(), f1_diffused.max()"
   ]
  },
  {
   "cell_type": "code",
   "execution_count": 97,
   "metadata": {},
   "outputs": [
    {
     "data": {
      "text/plain": [
       "(0.065951057563704, 0.109211825)"
      ]
     },
     "execution_count": 97,
     "metadata": {},
     "output_type": "execute_result"
    }
   ],
   "source": [
    "f1_baseline.mean(), f1_diffused.mean(axis=1).max()"
   ]
  }
 ],
 "metadata": {
  "kernelspec": {
   "display_name": "rl",
   "language": "python",
   "name": "python3"
  },
  "language_info": {
   "codemirror_mode": {
    "name": "ipython",
    "version": 3
   },
   "file_extension": ".py",
   "mimetype": "text/x-python",
   "name": "python",
   "nbconvert_exporter": "python",
   "pygments_lexer": "ipython3",
   "version": "3.10.13"
  }
 },
 "nbformat": 4,
 "nbformat_minor": 2
}
