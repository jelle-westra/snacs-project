{
 "cells": [
  {
   "cell_type": "code",
   "execution_count": 1,
   "metadata": {},
   "outputs": [],
   "source": [
    "import numpy as np\n",
    "import networkx as nx\n",
    "\n",
    "import json"
   ]
  },
  {
   "cell_type": "code",
   "execution_count": 2,
   "metadata": {},
   "outputs": [],
   "source": [
    "G = nx.read_edgelist('./datasets/PPI/ppi-walks.txt', delimiter='\\t')"
   ]
  },
  {
   "cell_type": "code",
   "execution_count": 3,
   "metadata": {},
   "outputs": [],
   "source": [
    "id2idx = {str(id) : idx for idx, id in enumerate(sorted(map(int, G.nodes())))}"
   ]
  },
  {
   "cell_type": "code",
   "execution_count": 4,
   "metadata": {},
   "outputs": [],
   "source": [
    "with open('./node2vec/emb/ppi.emb', 'r') as handle:\n",
    "    (n, d) = map(int, handle.readline().strip().split())\n",
    "\n",
    "    X = np.empty((n, d), dtype=np.float32)\n",
    "    while (line := handle.readline().strip()):\n",
    "        (id, *emb) = line.split()\n",
    "        X[id2idx[id]] = list(map(float, emb))"
   ]
  },
  {
   "cell_type": "code",
   "execution_count": 5,
   "metadata": {},
   "outputs": [],
   "source": [
    "with open('./datasets/PPI/ppi-class_map.json', 'r') as handle : \n",
    "    class_map = json.load(handle)\n",
    "    y = np.zeros((len(X), len(class_map['0'])), dtype=np.float32)\n",
    "    for id in G.nodes() : y[id2idx[id]] = class_map[id]"
   ]
  },
  {
   "cell_type": "code",
   "execution_count": 6,
   "metadata": {},
   "outputs": [],
   "source": [
    "# the neigbor trick\n",
    "lamb = 0.01\n",
    "deg_avg = sum(d for (n, d) in G.degree()) / G.number_of_nodes()\n",
    "\n",
    "Xprime = X.copy()\n",
    "for u in G.nodes() : \n",
    "    for v in G.neighbors(u) : \n",
    "        Xprime[id2idx[u]] += lamb*(G.degree(v)/deg_avg)*X[id2idx[v]]\n",
    "\n",
    "X = Xprime.copy()"
   ]
  },
  {
   "cell_type": "code",
   "execution_count": 7,
   "metadata": {},
   "outputs": [
    {
     "name": "stdout",
     "output_type": "stream",
     "text": [
      "0.2187783377203484\n",
      "0.20806608008689084\n",
      "0.20993544708692208\n",
      "0.2145199465019607\n",
      "0.2150689995731843\n",
      "0.2137190111578868\n",
      "0.20991265263034128\n",
      "0.2143544786408242\n",
      "0.2113626350222458\n",
      "0.20827349604071616\n"
     ]
    }
   ],
   "source": [
    "from sklearn.linear_model import LogisticRegression\n",
    "from sklearn.multiclass import OneVsRestClassifier\n",
    "from sklearn.model_selection import KFold\n",
    "from sklearn.metrics import f1_score\n",
    "\n",
    "clf = OneVsRestClassifier(LogisticRegression(penalty='l2'), n_jobs=-1)\n",
    "\n",
    "kf = KFold(n_splits=10, shuffle=True)\n",
    "f1 = []\n",
    "for train_index, test_index in kf.split(X) :\n",
    "    X_train, X_test = X[train_index], X[test_index]\n",
    "    y_train, y_test = y[train_index], y[test_index]\n",
    "    \n",
    "    clf.fit(X_train, y_train)\n",
    "    y_pred = clf.predict(X_test)\n",
    "\n",
    "    f1.append(f1_score(y_test, y_pred, average='macro', zero_division=0))\n",
    "    if (1) : print(f1[-1])"
   ]
  },
  {
   "cell_type": "code",
   "execution_count": 8,
   "metadata": {},
   "outputs": [
    {
     "data": {
      "text/plain": [
       "0.21239910844613202"
      ]
     },
     "execution_count": 8,
     "metadata": {},
     "output_type": "execute_result"
    }
   ],
   "source": [
    "np.mean(f1)"
   ]
  }
 ],
 "metadata": {
  "kernelspec": {
   "display_name": "rl",
   "language": "python",
   "name": "python3"
  },
  "language_info": {
   "codemirror_mode": {
    "name": "ipython",
    "version": 3
   },
   "file_extension": ".py",
   "mimetype": "text/x-python",
   "name": "python",
   "nbconvert_exporter": "python",
   "pygments_lexer": "ipython3",
   "version": "3.10.13"
  }
 },
 "nbformat": 4,
 "nbformat_minor": 2
}
