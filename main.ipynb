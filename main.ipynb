{
 "cells": [
  {
   "cell_type": "code",
   "execution_count": 80,
   "metadata": {},
   "outputs": [],
   "source": [
    "import networkx as nx\n",
    "import random\n",
    "from tqdm import tqdm\n",
    "\n",
    "from typing import Tuple, Set, Any"
   ]
  },
  {
   "cell_type": "code",
   "execution_count": 84,
   "metadata": {},
   "outputs": [],
   "source": [
    "G = nx.read_edgelist('./node2vec/graph/ca-AstroPh.edgelist', nodetype=int)"
   ]
  },
  {
   "cell_type": "code",
   "execution_count": 91,
   "metadata": {},
   "outputs": [],
   "source": [
    "G_giant = G.subgraph(max(nx.connected_components(G), key=len)).copy()\n",
    "n = G_giant.number_of_edges()//2"
   ]
  },
  {
   "cell_type": "code",
   "execution_count": 93,
   "metadata": {},
   "outputs": [],
   "source": [
    "Node = Any\n",
    "\n",
    "def random_remove_edges(G: nx.Graph, n: int) -> Set[Tuple[Node, Node]] :\n",
    "    # inplace removal of random edges s.t. G stays connected\n",
    "    edges = list(G_giant.edges())\n",
    "    removed = set()\n",
    "    i = 0\n",
    "    while (i < n):\n",
    "        (idx,) = random.sample(range(len(edges)), 1)\n",
    "        (u, v) = edges.pop(idx)\n",
    "        if not(G.degree(u) == 1) and not(G.degree(v) == 1) :\n",
    "            G_giant.remove_edge(u, v)\n",
    "            i += 1\n",
    "            removed.add((u, v))\n",
    "    return removed"
   ]
  },
  {
   "cell_type": "code",
   "execution_count": 94,
   "metadata": {},
   "outputs": [],
   "source": [
    "removed = random_remove_edges(G_giant, n)"
   ]
  },
  {
   "cell_type": "code",
   "execution_count": 95,
   "metadata": {},
   "outputs": [
    {
     "data": {
      "text/plain": [
       "True"
      ]
     },
     "execution_count": 95,
     "metadata": {},
     "output_type": "execute_result"
    }
   ],
   "source": [
    "(G_giant.number_of_nodes() - len(removed)) <= 1"
   ]
  },
  {
   "cell_type": "code",
   "execution_count": 98,
   "metadata": {},
   "outputs": [],
   "source": [
    "nx.write_edgelist(G_giant, './node2vec/graph/ca-AstroPh-half.edgelist')"
   ]
  },
  {
   "cell_type": "code",
   "execution_count": 102,
   "metadata": {},
   "outputs": [],
   "source": [
    "with open('./node2vec/graph/ca-AstroPh-removed.edgelist', 'w') as handle : \n",
    "    handle.writelines(f'{u} {v}\\n' for (u, v) in removed)"
   ]
  }
 ],
 "metadata": {
  "kernelspec": {
   "display_name": "rl",
   "language": "python",
   "name": "python3"
  },
  "language_info": {
   "codemirror_mode": {
    "name": "ipython",
    "version": 3
   },
   "file_extension": ".py",
   "mimetype": "text/x-python",
   "name": "python",
   "nbconvert_exporter": "python",
   "pygments_lexer": "ipython3",
   "version": "3.10.13"
  }
 },
 "nbformat": 4,
 "nbformat_minor": 2
}
