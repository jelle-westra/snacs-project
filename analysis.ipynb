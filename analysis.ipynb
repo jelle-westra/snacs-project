{
 "cells": [
  {
   "cell_type": "code",
   "execution_count": 102,
   "metadata": {},
   "outputs": [],
   "source": [
    "import numpy as np\n",
    "\n",
    "def parse_classification_results(path: str='./results/BlogCatalog.txt') -> tuple :\n",
    "    (scores, pq) = [], []\n",
    "    with open(path, 'r') as handle : \n",
    "        for line in handle.readlines():\n",
    "            line = line.strip()\n",
    "            pq.append([float(val[2:]) for val in line.split(':')[0][1:-1].split(',')])\n",
    "            scores.append([float(col.strip().split()[-1]) for col in line.split('|')])\n",
    "    (p, q) = zip(*pq)\n",
    "\n",
    "    (p, q, scores) = map(\n",
    "        np.array,\n",
    "        zip(*sorted(zip(p, q, scores), key=lambda x: (x[0], x[1])))\n",
    "    )\n",
    "\n",
    "    (f1_base, gamma, f1_smooth) = scores.T\n",
    "\n",
    "    return (p, q, f1_base, gamma, f1_smooth)"
   ]
  },
  {
   "cell_type": "code",
   "execution_count": 101,
   "metadata": {},
   "outputs": [],
   "source": [
    "def summarize_classification_results(p, q, f1_base, gamma, f1_smooth) -> None :\n",
    "    print(f'[mean] f1_base {f1_base.mean():.4f} | f1_smoothed {f1_smooth.mean():.4f}')\n",
    "    print(f'[max-base] p {p[f1_base.argmax()]:.2f} | q {q[f1_base.argmax()]:.2f} | f1 {f1_base.max():.4f}')\n",
    "    print(f'[max-smooth] p {p[f1_smooth.argmax()]:.2f} | q {q[f1_smooth.argmax()]:.2f} | gamma {gamma[f1_smooth.argmax()]:.3e} | | f1 {f1_smooth.max():.4f}')\n",
    "    print(f'[(smooth > base) rate] {(f1_smooth > f1_base).mean():.4f}')\n",
    "    if not((f1_smooth > f1_base).all()) :\n",
    "        idx = np.argwhere(f1_smooth < f1_base).flatten()\n",
    "        print('\\tBase better than smoothed at:')\n",
    "        for i in idx:\n",
    "            print(f'\\t[p={p[i]:.2f}; q={q[i]:.2f}] f1_base {f1_base[i]:.4f} | f1_smoothed {f1_smooth[i]:.4f}')\n",
    "    print(f'[gain] {(f1_smooth.max() - f1_base.max())/f1_base.max()*100:.2f}%')"
   ]
  },
  {
   "cell_type": "markdown",
   "metadata": {},
   "source": [
    "# Node Classification Task\n",
    "### BlogCatalog"
   ]
  },
  {
   "cell_type": "code",
   "execution_count": 103,
   "metadata": {},
   "outputs": [
    {
     "name": "stdout",
     "output_type": "stream",
     "text": [
      "[mean] f1_base 0.9679 | f1_smoothed 0.9731\n",
      "[max-base] p 4.00 | q 1.00 | f1 0.9735\n",
      "[max-smooth] p 0.50 | q 4.00 | gamma 2.154e-07 | | f1 0.9764\n",
      "[(smooth > base) rate] 0.9600\n",
      "\tBase better than smoothed at:\n",
      "\t[p=4.00; q=1.00] f1_base 0.9735 | f1_smoothed 0.9716\n",
      "[gain] 0.30%\n"
     ]
    }
   ],
   "source": [
    "summarize_classification_results(*parse_classification_results('./results/BlogCatalog.txt'))"
   ]
  },
  {
   "cell_type": "markdown",
   "metadata": {},
   "source": [
    "### PPI"
   ]
  },
  {
   "cell_type": "code",
   "execution_count": 104,
   "metadata": {},
   "outputs": [
    {
     "name": "stdout",
     "output_type": "stream",
     "text": [
      "[mean] f1_base 0.0713 | f1_smoothed 0.1096\n",
      "[max-base] p 0.25 | q 1.00 | f1 0.0757\n",
      "[max-smooth] p 4.00 | q 1.00 | gamma 4.642e-01 | | f1 0.1132\n",
      "[(smooth > base) rate] 1.0000\n",
      "[gain] 49.54%\n"
     ]
    }
   ],
   "source": [
    "summarize_classification_results(*parse_classification_results('./results/PPI.txt'))"
   ]
  },
  {
   "cell_type": "markdown",
   "metadata": {},
   "source": [
    "### Wikipedia"
   ]
  },
  {
   "cell_type": "code",
   "execution_count": 105,
   "metadata": {},
   "outputs": [
    {
     "name": "stdout",
     "output_type": "stream",
     "text": [
      "[mean] f1_base 0.0524 | f1_smoothed 0.1194\n",
      "[max-base] p 4.00 | q 4.00 | f1 0.0545\n",
      "[max-smooth] p 0.25 | q 0.50 | gamma 1.000e+00 | | f1 0.1258\n",
      "[(smooth > base) rate] 1.0000\n",
      "[gain] 130.83%\n"
     ]
    }
   ],
   "source": [
    "summarize_classification_results(*parse_classification_results('./results/Wikipedia.txt'))"
   ]
  }
 ],
 "metadata": {
  "kernelspec": {
   "display_name": "rl",
   "language": "python",
   "name": "python3"
  },
  "language_info": {
   "codemirror_mode": {
    "name": "ipython",
    "version": 3
   },
   "file_extension": ".py",
   "mimetype": "text/x-python",
   "name": "python",
   "nbconvert_exporter": "python",
   "pygments_lexer": "ipython3",
   "version": "3.10.13"
  }
 },
 "nbformat": 4,
 "nbformat_minor": 2
}
